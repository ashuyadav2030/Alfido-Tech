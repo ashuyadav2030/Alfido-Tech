{
 "cells": [
  {
   "cell_type": "markdown",
   "id": "76085cf8",
   "metadata": {},
   "source": [
    " **Made By :-  Ashu Kumar**"
   ]
  },
  {
   "cell_type": "markdown",
   "id": "0c7dee3d",
   "metadata": {},
   "source": [
    "# <center>Movie Rating Prediction</center>"
   ]
  },
  {
   "cell_type": "markdown",
   "id": "e6174e06",
   "metadata": {},
   "source": [
    "The goal of this project is to build a prediction model that predict movies on the basis of its rating. The data lies in three different DAT file which we have to merege together to form a single dataset. Here's a brief description of the columns:\n",
    "\n",
    "+ MovieID: An identifier for each movie in the dataset.\n",
    "+ Title: The title or name of the movie.\n",
    "+ UserID: An identifier for each user who provided a rating.\n",
    "+ Age: The age of the user who provided the rating.\n",
    "+ Gender: The gender of the user (e.g., Male, Female, Other).\n",
    "+ Occupation: The occupation or profession of the user.\n",
    "+ Rating: The rating given by the user for the movie, typically on a scale (e.g., 1-5 stars).\n",
    "\n"
   ]
  },
  {
   "cell_type": "markdown",
   "id": "3e109ade",
   "metadata": {},
   "source": [
    "**Import the required libraries**"
   ]
  },
  {
   "cell_type": "code",
   "execution_count": 1,
   "id": "fc28e991",
   "metadata": {},
   "outputs": [],
   "source": [
    "import pandas as pd\n",
    "import numpy as np\n",
    "import seaborn as sns\n",
    "import matplotlib.pyplot as plt\n",
    "from sklearn.model_selection import train_test_split\n",
    "from sklearn.linear_model import LogisticRegression\n",
    "from sklearn.pipeline import Pipeline\n",
    "from sklearn.tree import DecisionTreeClassifier\n",
    "from sklearn.neighbors import KNeighborsClassifier\n",
    "from sklearn.naive_bayes import GaussianNB\n",
    "from sklearn.ensemble import GradientBoostingClassifier\n",
    "from sklearn.preprocessing import StandardScaler\n",
    "from sklearn.preprocessing import LabelEncoder\n",
    "from sklearn.model_selection import cross_val_score\n",
    "from sklearn.ensemble import RandomForestClassifier\n",
    "from sklearn.metrics import confusion_matrix\n",
    "from sklearn.metrics import accuracy_score, precision_score, recall_score, f1_score, precision_score\n",
    "from sklearn.metrics import r2_score, mean_absolute_error, mean_squared_error\n",
    "from sklearn import metrics\n",
    "import warnings\n",
    "warnings.filterwarnings('ignore')\n",
    "%matplotlib inline\n",
    "sns.set(color_codes=True)\n",
    "pd.set_option('display.max_columns', None)\n",
    "pd.set_option('display.max_colwidth', None)\n",
    "%matplotlib inline\n",
    "sns.set(color_codes=True)"
   ]
  },
  {
   "cell_type": "markdown",
   "id": "68d272a4",
   "metadata": {},
   "source": [
    "**Load the dataset into jupyter notebook**"
   ]
  },
  {
   "cell_type": "code",
   "execution_count": 2,
   "id": "e7adb12a",
   "metadata": {},
   "outputs": [],
   "source": [
    "movies = pd.read_csv('movies.dat', sep='::',  encoding='latin1')"
   ]
  },
  {
   "cell_type": "code",
   "execution_count": 3,
   "id": "4990cbaf",
   "metadata": {},
   "outputs": [
    {
     "data": {
      "text/html": [
       "<div>\n",
       "<style scoped>\n",
       "    .dataframe tbody tr th:only-of-type {\n",
       "        vertical-align: middle;\n",
       "    }\n",
       "\n",
       "    .dataframe tbody tr th {\n",
       "        vertical-align: top;\n",
       "    }\n",
       "\n",
       "    .dataframe thead th {\n",
       "        text-align: right;\n",
       "    }\n",
       "</style>\n",
       "<table border=\"1\" class=\"dataframe\">\n",
       "  <thead>\n",
       "    <tr style=\"text-align: right;\">\n",
       "      <th></th>\n",
       "      <th>1</th>\n",
       "      <th>Toy Story (1995)</th>\n",
       "      <th>Animation|Children's|Comedy</th>\n",
       "    </tr>\n",
       "  </thead>\n",
       "  <tbody>\n",
       "    <tr>\n",
       "      <th>0</th>\n",
       "      <td>2</td>\n",
       "      <td>Jumanji (1995)</td>\n",
       "      <td>Adventure|Children's|Fantasy</td>\n",
       "    </tr>\n",
       "    <tr>\n",
       "      <th>1</th>\n",
       "      <td>3</td>\n",
       "      <td>Grumpier Old Men (1995)</td>\n",
       "      <td>Comedy|Romance</td>\n",
       "    </tr>\n",
       "    <tr>\n",
       "      <th>2</th>\n",
       "      <td>4</td>\n",
       "      <td>Waiting to Exhale (1995)</td>\n",
       "      <td>Comedy|Drama</td>\n",
       "    </tr>\n",
       "    <tr>\n",
       "      <th>3</th>\n",
       "      <td>5</td>\n",
       "      <td>Father of the Bride Part II (1995)</td>\n",
       "      <td>Comedy</td>\n",
       "    </tr>\n",
       "    <tr>\n",
       "      <th>4</th>\n",
       "      <td>6</td>\n",
       "      <td>Heat (1995)</td>\n",
       "      <td>Action|Crime|Thriller</td>\n",
       "    </tr>\n",
       "  </tbody>\n",
       "</table>\n",
       "</div>"
      ],
      "text/plain": [
       "   1                    Toy Story (1995)   Animation|Children's|Comedy\n",
       "0  2                      Jumanji (1995)  Adventure|Children's|Fantasy\n",
       "1  3             Grumpier Old Men (1995)                Comedy|Romance\n",
       "2  4            Waiting to Exhale (1995)                  Comedy|Drama\n",
       "3  5  Father of the Bride Part II (1995)                        Comedy\n",
       "4  6                         Heat (1995)         Action|Crime|Thriller"
      ]
     },
     "execution_count": 3,
     "metadata": {},
     "output_type": "execute_result"
    }
   ],
   "source": [
    "movies.head()"
   ]
  },
  {
   "cell_type": "code",
   "execution_count": 4,
   "id": "9b132dae",
   "metadata": {},
   "outputs": [
    {
     "data": {
      "text/html": [
       "<div>\n",
       "<style scoped>\n",
       "    .dataframe tbody tr th:only-of-type {\n",
       "        vertical-align: middle;\n",
       "    }\n",
       "\n",
       "    .dataframe tbody tr th {\n",
       "        vertical-align: top;\n",
       "    }\n",
       "\n",
       "    .dataframe thead th {\n",
       "        text-align: right;\n",
       "    }\n",
       "</style>\n",
       "<table border=\"1\" class=\"dataframe\">\n",
       "  <thead>\n",
       "    <tr style=\"text-align: right;\">\n",
       "      <th></th>\n",
       "      <th>MovieID</th>\n",
       "      <th>Title</th>\n",
       "      <th>Genres</th>\n",
       "    </tr>\n",
       "  </thead>\n",
       "  <tbody>\n",
       "    <tr>\n",
       "      <th>0</th>\n",
       "      <td>2</td>\n",
       "      <td>Jumanji (1995)</td>\n",
       "      <td>Adventure|Children's|Fantasy</td>\n",
       "    </tr>\n",
       "    <tr>\n",
       "      <th>1</th>\n",
       "      <td>3</td>\n",
       "      <td>Grumpier Old Men (1995)</td>\n",
       "      <td>Comedy|Romance</td>\n",
       "    </tr>\n",
       "    <tr>\n",
       "      <th>2</th>\n",
       "      <td>4</td>\n",
       "      <td>Waiting to Exhale (1995)</td>\n",
       "      <td>Comedy|Drama</td>\n",
       "    </tr>\n",
       "    <tr>\n",
       "      <th>3</th>\n",
       "      <td>5</td>\n",
       "      <td>Father of the Bride Part II (1995)</td>\n",
       "      <td>Comedy</td>\n",
       "    </tr>\n",
       "    <tr>\n",
       "      <th>4</th>\n",
       "      <td>6</td>\n",
       "      <td>Heat (1995)</td>\n",
       "      <td>Action|Crime|Thriller</td>\n",
       "    </tr>\n",
       "  </tbody>\n",
       "</table>\n",
       "</div>"
      ],
      "text/plain": [
       "   MovieID                               Title                        Genres\n",
       "0        2                      Jumanji (1995)  Adventure|Children's|Fantasy\n",
       "1        3             Grumpier Old Men (1995)                Comedy|Romance\n",
       "2        4            Waiting to Exhale (1995)                  Comedy|Drama\n",
       "3        5  Father of the Bride Part II (1995)                        Comedy\n",
       "4        6                         Heat (1995)         Action|Crime|Thriller"
      ]
     },
     "execution_count": 4,
     "metadata": {},
     "output_type": "execute_result"
    }
   ],
   "source": [
    "movies.columns =['MovieID', 'Title', 'Genres']\n",
    "movies.dropna(inplace=True)\n",
    "movies.head()"
   ]
  },
  {
   "cell_type": "code",
   "execution_count": 5,
   "id": "def4ab5c",
   "metadata": {},
   "outputs": [
    {
     "data": {
      "text/html": [
       "<div>\n",
       "<style scoped>\n",
       "    .dataframe tbody tr th:only-of-type {\n",
       "        vertical-align: middle;\n",
       "    }\n",
       "\n",
       "    .dataframe tbody tr th {\n",
       "        vertical-align: top;\n",
       "    }\n",
       "\n",
       "    .dataframe thead th {\n",
       "        text-align: right;\n",
       "    }\n",
       "</style>\n",
       "<table border=\"1\" class=\"dataframe\">\n",
       "  <thead>\n",
       "    <tr style=\"text-align: right;\">\n",
       "      <th></th>\n",
       "      <th>UserID</th>\n",
       "      <th>MovieID</th>\n",
       "      <th>Rating</th>\n",
       "      <th>Timestamp</th>\n",
       "    </tr>\n",
       "  </thead>\n",
       "  <tbody>\n",
       "    <tr>\n",
       "      <th>0</th>\n",
       "      <td>1</td>\n",
       "      <td>661</td>\n",
       "      <td>3</td>\n",
       "      <td>978302109</td>\n",
       "    </tr>\n",
       "    <tr>\n",
       "      <th>1</th>\n",
       "      <td>1</td>\n",
       "      <td>914</td>\n",
       "      <td>3</td>\n",
       "      <td>978301968</td>\n",
       "    </tr>\n",
       "    <tr>\n",
       "      <th>2</th>\n",
       "      <td>1</td>\n",
       "      <td>3408</td>\n",
       "      <td>4</td>\n",
       "      <td>978300275</td>\n",
       "    </tr>\n",
       "    <tr>\n",
       "      <th>3</th>\n",
       "      <td>1</td>\n",
       "      <td>2355</td>\n",
       "      <td>5</td>\n",
       "      <td>978824291</td>\n",
       "    </tr>\n",
       "    <tr>\n",
       "      <th>4</th>\n",
       "      <td>1</td>\n",
       "      <td>1197</td>\n",
       "      <td>3</td>\n",
       "      <td>978302268</td>\n",
       "    </tr>\n",
       "  </tbody>\n",
       "</table>\n",
       "</div>"
      ],
      "text/plain": [
       "   UserID  MovieID  Rating  Timestamp\n",
       "0       1      661       3  978302109\n",
       "1       1      914       3  978301968\n",
       "2       1     3408       4  978300275\n",
       "3       1     2355       5  978824291\n",
       "4       1     1197       3  978302268"
      ]
     },
     "execution_count": 5,
     "metadata": {},
     "output_type": "execute_result"
    }
   ],
   "source": [
    "ratings = pd.read_csv(\"ratings.dat\",sep='::')\n",
    "ratings.columns =['UserID', 'MovieID', 'Rating', 'Timestamp']\n",
    "ratings.dropna(inplace=True)\n",
    "\n",
    "#Read the sample ratings dataset\n",
    "ratings.head()"
   ]
  },
  {
   "cell_type": "code",
   "execution_count": 6,
   "id": "569a2d75",
   "metadata": {},
   "outputs": [
    {
     "data": {
      "text/html": [
       "<div>\n",
       "<style scoped>\n",
       "    .dataframe tbody tr th:only-of-type {\n",
       "        vertical-align: middle;\n",
       "    }\n",
       "\n",
       "    .dataframe tbody tr th {\n",
       "        vertical-align: top;\n",
       "    }\n",
       "\n",
       "    .dataframe thead th {\n",
       "        text-align: right;\n",
       "    }\n",
       "</style>\n",
       "<table border=\"1\" class=\"dataframe\">\n",
       "  <thead>\n",
       "    <tr style=\"text-align: right;\">\n",
       "      <th></th>\n",
       "      <th>UserID</th>\n",
       "      <th>Gender</th>\n",
       "      <th>Age</th>\n",
       "      <th>Occupation</th>\n",
       "      <th>Zip-code</th>\n",
       "    </tr>\n",
       "  </thead>\n",
       "  <tbody>\n",
       "    <tr>\n",
       "      <th>0</th>\n",
       "      <td>2</td>\n",
       "      <td>M</td>\n",
       "      <td>56</td>\n",
       "      <td>16</td>\n",
       "      <td>70072</td>\n",
       "    </tr>\n",
       "    <tr>\n",
       "      <th>1</th>\n",
       "      <td>3</td>\n",
       "      <td>M</td>\n",
       "      <td>25</td>\n",
       "      <td>15</td>\n",
       "      <td>55117</td>\n",
       "    </tr>\n",
       "    <tr>\n",
       "      <th>2</th>\n",
       "      <td>4</td>\n",
       "      <td>M</td>\n",
       "      <td>45</td>\n",
       "      <td>7</td>\n",
       "      <td>02460</td>\n",
       "    </tr>\n",
       "    <tr>\n",
       "      <th>3</th>\n",
       "      <td>5</td>\n",
       "      <td>M</td>\n",
       "      <td>25</td>\n",
       "      <td>20</td>\n",
       "      <td>55455</td>\n",
       "    </tr>\n",
       "    <tr>\n",
       "      <th>4</th>\n",
       "      <td>6</td>\n",
       "      <td>F</td>\n",
       "      <td>50</td>\n",
       "      <td>9</td>\n",
       "      <td>55117</td>\n",
       "    </tr>\n",
       "  </tbody>\n",
       "</table>\n",
       "</div>"
      ],
      "text/plain": [
       "   UserID Gender  Age  Occupation Zip-code\n",
       "0       2      M   56          16    70072\n",
       "1       3      M   25          15    55117\n",
       "2       4      M   45           7    02460\n",
       "3       5      M   25          20    55455\n",
       "4       6      F   50           9    55117"
      ]
     },
     "execution_count": 6,
     "metadata": {},
     "output_type": "execute_result"
    }
   ],
   "source": [
    "users = pd.read_csv(\"users.dat\",sep='::')\n",
    "users.columns =['UserID', 'Gender', 'Age', 'Occupation', 'Zip-code']\n",
    "users.dropna(inplace=True)\n",
    "\n",
    "#Read the sample users dataset\n",
    "users.head()"
   ]
  },
  {
   "cell_type": "code",
   "execution_count": 7,
   "id": "c46772c4",
   "metadata": {},
   "outputs": [
    {
     "data": {
      "text/html": [
       "<div>\n",
       "<style scoped>\n",
       "    .dataframe tbody tr th:only-of-type {\n",
       "        vertical-align: middle;\n",
       "    }\n",
       "\n",
       "    .dataframe tbody tr th {\n",
       "        vertical-align: top;\n",
       "    }\n",
       "\n",
       "    .dataframe thead th {\n",
       "        text-align: right;\n",
       "    }\n",
       "</style>\n",
       "<table border=\"1\" class=\"dataframe\">\n",
       "  <thead>\n",
       "    <tr style=\"text-align: right;\">\n",
       "      <th></th>\n",
       "      <th>MovieID</th>\n",
       "      <th>Title</th>\n",
       "      <th>UserID</th>\n",
       "      <th>Age</th>\n",
       "      <th>Gender</th>\n",
       "      <th>Occupation</th>\n",
       "      <th>Rating</th>\n",
       "    </tr>\n",
       "  </thead>\n",
       "  <tbody>\n",
       "    <tr>\n",
       "      <th>0</th>\n",
       "      <td>1357</td>\n",
       "      <td>Shine (1996)</td>\n",
       "      <td>2</td>\n",
       "      <td>56</td>\n",
       "      <td>M</td>\n",
       "      <td>16</td>\n",
       "      <td>5</td>\n",
       "    </tr>\n",
       "    <tr>\n",
       "      <th>1</th>\n",
       "      <td>3068</td>\n",
       "      <td>Verdict, The (1982)</td>\n",
       "      <td>2</td>\n",
       "      <td>56</td>\n",
       "      <td>M</td>\n",
       "      <td>16</td>\n",
       "      <td>4</td>\n",
       "    </tr>\n",
       "    <tr>\n",
       "      <th>2</th>\n",
       "      <td>1537</td>\n",
       "      <td>Shall We Dance? (Shall We Dansu?) (1996)</td>\n",
       "      <td>2</td>\n",
       "      <td>56</td>\n",
       "      <td>M</td>\n",
       "      <td>16</td>\n",
       "      <td>4</td>\n",
       "    </tr>\n",
       "    <tr>\n",
       "      <th>3</th>\n",
       "      <td>647</td>\n",
       "      <td>Courage Under Fire (1996)</td>\n",
       "      <td>2</td>\n",
       "      <td>56</td>\n",
       "      <td>M</td>\n",
       "      <td>16</td>\n",
       "      <td>3</td>\n",
       "    </tr>\n",
       "    <tr>\n",
       "      <th>4</th>\n",
       "      <td>2194</td>\n",
       "      <td>Untouchables, The (1987)</td>\n",
       "      <td>2</td>\n",
       "      <td>56</td>\n",
       "      <td>M</td>\n",
       "      <td>16</td>\n",
       "      <td>4</td>\n",
       "    </tr>\n",
       "  </tbody>\n",
       "</table>\n",
       "</div>"
      ],
      "text/plain": [
       "   MovieID                                     Title  UserID  Age Gender  \\\n",
       "0     1357                              Shine (1996)       2   56      M   \n",
       "1     3068                       Verdict, The (1982)       2   56      M   \n",
       "2     1537  Shall We Dance? (Shall We Dansu?) (1996)       2   56      M   \n",
       "3      647                 Courage Under Fire (1996)       2   56      M   \n",
       "4     2194                  Untouchables, The (1987)       2   56      M   \n",
       "\n",
       "   Occupation  Rating  \n",
       "0          16       5  \n",
       "1          16       4  \n",
       "2          16       4  \n",
       "3          16       3  \n",
       "4          16       4  "
      ]
     },
     "execution_count": 7,
     "metadata": {},
     "output_type": "execute_result"
    }
   ],
   "source": [
    "#Merge the ratings and users with movieID and UserID\n",
    "ratings_user = pd.merge(ratings,users, on=['UserID'])\n",
    "ratings_movie = pd.merge(ratings,movies, on=['MovieID'])\n",
    "\n",
    "df = pd.merge(ratings_user,ratings_movie,\n",
    "                       on=['UserID', 'MovieID', 'Rating'])[['MovieID', 'Title', 'UserID', 'Age', 'Gender', 'Occupation', \"Rating\"]]\n",
    "\n",
    "df.head()"
   ]
  },
  {
   "cell_type": "markdown",
   "id": "489875f7",
   "metadata": {},
   "source": [
    "**Retrieve the shape of the dataset, which indicates the number of rows and columns it contains.**"
   ]
  },
  {
   "cell_type": "code",
   "execution_count": 8,
   "id": "1de9884c",
   "metadata": {},
   "outputs": [
    {
     "data": {
      "text/plain": [
       "(998080, 7)"
      ]
     },
     "execution_count": 8,
     "metadata": {},
     "output_type": "execute_result"
    }
   ],
   "source": [
    "df.shape"
   ]
  },
  {
   "cell_type": "markdown",
   "id": "a0d8946d",
   "metadata": {},
   "source": [
    "**Conduct an examination of the columns present in the dataset.**"
   ]
  },
  {
   "cell_type": "code",
   "execution_count": 9,
   "id": "03bc0b73",
   "metadata": {},
   "outputs": [
    {
     "data": {
      "text/plain": [
       "Index(['MovieID', 'Title', 'UserID', 'Age', 'Gender', 'Occupation', 'Rating'], dtype='object')"
      ]
     },
     "execution_count": 9,
     "metadata": {},
     "output_type": "execute_result"
    }
   ],
   "source": [
    "df.columns"
   ]
  },
  {
   "cell_type": "markdown",
   "id": "ba37c756",
   "metadata": {},
   "source": [
    "**Retrieve the information summary of the dataset, including details such as column names, data types, non-null counts, and memory usage.**"
   ]
  },
  {
   "cell_type": "code",
   "execution_count": 10,
   "id": "8051481c",
   "metadata": {},
   "outputs": [
    {
     "name": "stdout",
     "output_type": "stream",
     "text": [
      "<class 'pandas.core.frame.DataFrame'>\n",
      "Int64Index: 998080 entries, 0 to 998079\n",
      "Data columns (total 7 columns):\n",
      " #   Column      Non-Null Count   Dtype \n",
      "---  ------      --------------   ----- \n",
      " 0   MovieID     998080 non-null  int64 \n",
      " 1   Title       998080 non-null  object\n",
      " 2   UserID      998080 non-null  int64 \n",
      " 3   Age         998080 non-null  int64 \n",
      " 4   Gender      998080 non-null  object\n",
      " 5   Occupation  998080 non-null  int64 \n",
      " 6   Rating      998080 non-null  int64 \n",
      "dtypes: int64(5), object(2)\n",
      "memory usage: 60.9+ MB\n"
     ]
    }
   ],
   "source": [
    "df.info()"
   ]
  },
  {
   "cell_type": "markdown",
   "id": "ef823bc8",
   "metadata": {},
   "source": [
    "**Obtain the statistical summary of the dataset, the 'describe' function was employed.**"
   ]
  },
  {
   "cell_type": "code",
   "execution_count": 11,
   "id": "72d113a8",
   "metadata": {},
   "outputs": [
    {
     "data": {
      "text/html": [
       "<div>\n",
       "<style scoped>\n",
       "    .dataframe tbody tr th:only-of-type {\n",
       "        vertical-align: middle;\n",
       "    }\n",
       "\n",
       "    .dataframe tbody tr th {\n",
       "        vertical-align: top;\n",
       "    }\n",
       "\n",
       "    .dataframe thead th {\n",
       "        text-align: right;\n",
       "    }\n",
       "</style>\n",
       "<table border=\"1\" class=\"dataframe\">\n",
       "  <thead>\n",
       "    <tr style=\"text-align: right;\">\n",
       "      <th></th>\n",
       "      <th>MovieID</th>\n",
       "      <th>UserID</th>\n",
       "      <th>Age</th>\n",
       "      <th>Occupation</th>\n",
       "      <th>Rating</th>\n",
       "    </tr>\n",
       "  </thead>\n",
       "  <tbody>\n",
       "    <tr>\n",
       "      <th>count</th>\n",
       "      <td>998080.000000</td>\n",
       "      <td>998080.000000</td>\n",
       "      <td>998080.000000</td>\n",
       "      <td>998080.000000</td>\n",
       "      <td>998080.000000</td>\n",
       "    </tr>\n",
       "    <tr>\n",
       "      <th>mean</th>\n",
       "      <td>1869.434325</td>\n",
       "      <td>3024.608884</td>\n",
       "      <td>29.744052</td>\n",
       "      <td>8.035970</td>\n",
       "      <td>3.580357</td>\n",
       "    </tr>\n",
       "    <tr>\n",
       "      <th>std</th>\n",
       "      <td>1093.878797</td>\n",
       "      <td>1728.273821</td>\n",
       "      <td>11.749987</td>\n",
       "      <td>6.531805</td>\n",
       "      <td>1.117300</td>\n",
       "    </tr>\n",
       "    <tr>\n",
       "      <th>min</th>\n",
       "      <td>2.000000</td>\n",
       "      <td>2.000000</td>\n",
       "      <td>1.000000</td>\n",
       "      <td>0.000000</td>\n",
       "      <td>1.000000</td>\n",
       "    </tr>\n",
       "    <tr>\n",
       "      <th>25%</th>\n",
       "      <td>1034.000000</td>\n",
       "      <td>1506.000000</td>\n",
       "      <td>25.000000</td>\n",
       "      <td>2.000000</td>\n",
       "      <td>3.000000</td>\n",
       "    </tr>\n",
       "    <tr>\n",
       "      <th>50%</th>\n",
       "      <td>1845.000000</td>\n",
       "      <td>3070.000000</td>\n",
       "      <td>25.000000</td>\n",
       "      <td>7.000000</td>\n",
       "      <td>4.000000</td>\n",
       "    </tr>\n",
       "    <tr>\n",
       "      <th>75%</th>\n",
       "      <td>2772.000000</td>\n",
       "      <td>4476.000000</td>\n",
       "      <td>35.000000</td>\n",
       "      <td>14.000000</td>\n",
       "      <td>4.000000</td>\n",
       "    </tr>\n",
       "    <tr>\n",
       "      <th>max</th>\n",
       "      <td>3952.000000</td>\n",
       "      <td>6040.000000</td>\n",
       "      <td>56.000000</td>\n",
       "      <td>20.000000</td>\n",
       "      <td>5.000000</td>\n",
       "    </tr>\n",
       "  </tbody>\n",
       "</table>\n",
       "</div>"
      ],
      "text/plain": [
       "             MovieID         UserID            Age     Occupation  \\\n",
       "count  998080.000000  998080.000000  998080.000000  998080.000000   \n",
       "mean     1869.434325    3024.608884      29.744052       8.035970   \n",
       "std      1093.878797    1728.273821      11.749987       6.531805   \n",
       "min         2.000000       2.000000       1.000000       0.000000   \n",
       "25%      1034.000000    1506.000000      25.000000       2.000000   \n",
       "50%      1845.000000    3070.000000      25.000000       7.000000   \n",
       "75%      2772.000000    4476.000000      35.000000      14.000000   \n",
       "max      3952.000000    6040.000000      56.000000      20.000000   \n",
       "\n",
       "              Rating  \n",
       "count  998080.000000  \n",
       "mean        3.580357  \n",
       "std         1.117300  \n",
       "min         1.000000  \n",
       "25%         3.000000  \n",
       "50%         4.000000  \n",
       "75%         4.000000  \n",
       "max         5.000000  "
      ]
     },
     "execution_count": 11,
     "metadata": {},
     "output_type": "execute_result"
    }
   ],
   "source": [
    "df.describe()"
   ]
  },
  {
   "cell_type": "code",
   "execution_count": 12,
   "id": "d0f4607d",
   "metadata": {},
   "outputs": [
    {
     "data": {
      "text/html": [
       "<div>\n",
       "<style scoped>\n",
       "    .dataframe tbody tr th:only-of-type {\n",
       "        vertical-align: middle;\n",
       "    }\n",
       "\n",
       "    .dataframe tbody tr th {\n",
       "        vertical-align: top;\n",
       "    }\n",
       "\n",
       "    .dataframe thead th {\n",
       "        text-align: right;\n",
       "    }\n",
       "</style>\n",
       "<table border=\"1\" class=\"dataframe\">\n",
       "  <thead>\n",
       "    <tr style=\"text-align: right;\">\n",
       "      <th></th>\n",
       "      <th>Title</th>\n",
       "      <th>Gender</th>\n",
       "    </tr>\n",
       "  </thead>\n",
       "  <tbody>\n",
       "    <tr>\n",
       "      <th>count</th>\n",
       "      <td>998080</td>\n",
       "      <td>998080</td>\n",
       "    </tr>\n",
       "    <tr>\n",
       "      <th>unique</th>\n",
       "      <td>3705</td>\n",
       "      <td>2</td>\n",
       "    </tr>\n",
       "    <tr>\n",
       "      <th>top</th>\n",
       "      <td>American Beauty (1999)</td>\n",
       "      <td>M</td>\n",
       "    </tr>\n",
       "    <tr>\n",
       "      <th>freq</th>\n",
       "      <td>3428</td>\n",
       "      <td>752283</td>\n",
       "    </tr>\n",
       "  </tbody>\n",
       "</table>\n",
       "</div>"
      ],
      "text/plain": [
       "                         Title  Gender\n",
       "count                   998080  998080\n",
       "unique                    3705       2\n",
       "top     American Beauty (1999)       M\n",
       "freq                      3428  752283"
      ]
     },
     "execution_count": 12,
     "metadata": {},
     "output_type": "execute_result"
    }
   ],
   "source": [
    "df.describe(include=['object','bool'])"
   ]
  },
  {
   "cell_type": "markdown",
   "id": "c15ea134",
   "metadata": {},
   "source": [
    "**Conduct an examination of the distinct values present in each column of the dataset.**"
   ]
  },
  {
   "cell_type": "code",
   "execution_count": 13,
   "id": "ea90f890",
   "metadata": {},
   "outputs": [
    {
     "data": {
      "text/plain": [
       "MovieID       3705\n",
       "Title         3705\n",
       "UserID        6039\n",
       "Age              7\n",
       "Gender           2\n",
       "Occupation      21\n",
       "Rating           5\n",
       "dtype: int64"
      ]
     },
     "execution_count": 13,
     "metadata": {},
     "output_type": "execute_result"
    }
   ],
   "source": [
    "df.nunique()"
   ]
  },
  {
   "cell_type": "markdown",
   "id": "152e6c6a",
   "metadata": {},
   "source": [
    "**Perform an assessment of the presence of null values in the columns of the dataset.**"
   ]
  },
  {
   "cell_type": "code",
   "execution_count": 14,
   "id": "a7ce0ef0",
   "metadata": {},
   "outputs": [
    {
     "data": {
      "text/plain": [
       "MovieID       0\n",
       "Title         0\n",
       "UserID        0\n",
       "Age           0\n",
       "Gender        0\n",
       "Occupation    0\n",
       "Rating        0\n",
       "dtype: int64"
      ]
     },
     "execution_count": 14,
     "metadata": {},
     "output_type": "execute_result"
    }
   ],
   "source": [
    "df.isnull().sum()"
   ]
  },
  {
   "cell_type": "markdown",
   "id": "a13471c2",
   "metadata": {},
   "source": [
    "## Data Visualization"
   ]
  },
  {
   "cell_type": "markdown",
   "id": "c10666c8",
   "metadata": {},
   "source": [
    "**Visualize the survival outcomes of individuals**"
   ]
  },
  {
   "cell_type": "code",
   "execution_count": 15,
   "id": "516d57fc",
   "metadata": {},
   "outputs": [
    {
     "data": {
      "image/png": "[encoded data removed]",
      "text/plain": [
       "<Figure size 640x480 with 1 Axes>"
      ]
     },
     "metadata": {},
     "output_type": "display_data"
    },
    {
     "data": {
      "image/png": "[encoded data removed]",
      "text/plain": [
       "<Figure size 640x480 with 1 Axes>"
      ]
     },
     "metadata": {},
     "output_type": "display_data"
    }
   ],
   "source": [
    "cat_vars = ['Rating', 'Gender']\n",
    "\n",
    "for column in cat_vars:\n",
    "    ax = sns.countplot(data=df, x=column, palette='RdBu')\n",
    "    ax.bar_label(ax.containers[0])\n",
    "    plt.title(f'Countplot for {column}')\n",
    "    plt.show()"
   ]
  },
  {
   "cell_type": "code",
   "execution_count": 16,
   "id": "5f8c54ec",
   "metadata": {},
   "outputs": [
    {
     "data": {
      "image/png": "[encoded data removed]",
      "text/plain": [
       "<Figure size 1400x500 with 2 Axes>"
      ]
     },
     "metadata": {},
     "output_type": "display_data"
    },
    {
     "data": {
      "image/png": "[encoded data removed]",
      "text/plain": [
       "<Figure size 1400x500 with 2 Axes>"
      ]
     },
     "metadata": {},
     "output_type": "display_data"
    }
   ],
   "source": [
    "num_var = ['Age','Occupation']\n",
    "\n",
    "for column in num_var:\n",
    "    plt.figure(figsize=(14,5))\n",
    "    plt.subplot(1,2,1)\n",
    "    ax = sns.boxplot(df[column])\n",
    "\n",
    "    plt.subplot(1,2,2)\n",
    "    ax = sns.distplot(df[column])\n",
    "    plt.show()"
   ]
  },
  {
   "cell_type": "markdown",
   "id": "2641ba3a",
   "metadata": {},
   "source": [
    "**Pairplot to visualize relationships between variables**"
   ]
  },
  {
   "cell_type": "code",
   "execution_count": 17,
   "id": "5f81e42b",
   "metadata": {},
   "outputs": [
    {
     "data": {
      "image/png": "[encoded data removed]",
      "text/plain": [
       "<Figure size 1000x500 with 1 Axes>"
      ]
     },
     "metadata": {},
     "output_type": "display_data"
    },
    {
     "data": {
      "image/png": "[encoded data removed]",
      "text/plain": [
       "<Figure size 1000x500 with 1 Axes>"
      ]
     },
     "metadata": {},
     "output_type": "display_data"
    },
    {
     "data": {
      "image/png": "[encoded data removed]",
      "text/plain": [
       "<Figure size 1000x500 with 1 Axes>"
      ]
     },
     "metadata": {},
     "output_type": "display_data"
    }
   ],
   "source": [
    "numeric_variables = ['Age','Gender','Occupation']\n",
    "for var in numeric_variables:\n",
    "    plt.figure(figsize=(10,5))\n",
    "    sns.boxplot(x='Rating', y=var, data=df)\n",
    "    plt.title(f\"Rating vs {var}\")\n",
    "    plt.xticks(rotation=90)\n",
    "    plt.xlabel('Rating')\n",
    "    plt.ylabel(var)\n",
    "    plt.show()"
   ]
  },
  {
   "cell_type": "code",
   "execution_count": 18,
   "id": "6511095d",
   "metadata": {},
   "outputs": [
    {
     "data": {
      "image/png": "[encoded data removed]",
      "text/plain": [
       "<Figure size 800x600 with 2 Axes>"
      ]
     },
     "metadata": {},
     "output_type": "display_data"
    }
   ],
   "source": [
    "# Correlation heatmap\n",
    "data = df.copy()\n",
    "data.drop(\"Rating\", axis=1, inplace=True)\n",
    "correlation = data.corr()\n",
    "plt.figure(figsize=(8, 6))\n",
    "sns.heatmap(correlation, annot=True, cmap=\"coolwarm\")\n",
    "plt.title(\"Correlation Heatmap\")\n",
    "plt.show()"
   ]
  },
  {
   "cell_type": "code",
   "execution_count": 19,
   "id": "07e54b2d",
   "metadata": {},
   "outputs": [
    {
     "data": {
      "text/html": [
       "<div>\n",
       "<style scoped>\n",
       "    .dataframe tbody tr th:only-of-type {\n",
       "        vertical-align: middle;\n",
       "    }\n",
       "\n",
       "    .dataframe tbody tr th {\n",
       "        vertical-align: top;\n",
       "    }\n",
       "\n",
       "    .dataframe thead th {\n",
       "        text-align: right;\n",
       "    }\n",
       "</style>\n",
       "<table border=\"1\" class=\"dataframe\">\n",
       "  <thead>\n",
       "    <tr style=\"text-align: right;\">\n",
       "      <th></th>\n",
       "      <th>MovieID</th>\n",
       "      <th>Title</th>\n",
       "      <th>UserID</th>\n",
       "      <th>Age</th>\n",
       "      <th>Gender</th>\n",
       "      <th>Occupation</th>\n",
       "      <th>Rating</th>\n",
       "      <th>Chance_Gender</th>\n",
       "    </tr>\n",
       "  </thead>\n",
       "  <tbody>\n",
       "    <tr>\n",
       "      <th>0</th>\n",
       "      <td>1357</td>\n",
       "      <td>Shine (1996)</td>\n",
       "      <td>2</td>\n",
       "      <td>56</td>\n",
       "      <td>M</td>\n",
       "      <td>16</td>\n",
       "      <td>5</td>\n",
       "      <td>1</td>\n",
       "    </tr>\n",
       "    <tr>\n",
       "      <th>1</th>\n",
       "      <td>3068</td>\n",
       "      <td>Verdict, The (1982)</td>\n",
       "      <td>2</td>\n",
       "      <td>56</td>\n",
       "      <td>M</td>\n",
       "      <td>16</td>\n",
       "      <td>4</td>\n",
       "      <td>1</td>\n",
       "    </tr>\n",
       "    <tr>\n",
       "      <th>2</th>\n",
       "      <td>1537</td>\n",
       "      <td>Shall We Dance? (Shall We Dansu?) (1996)</td>\n",
       "      <td>2</td>\n",
       "      <td>56</td>\n",
       "      <td>M</td>\n",
       "      <td>16</td>\n",
       "      <td>4</td>\n",
       "      <td>1</td>\n",
       "    </tr>\n",
       "    <tr>\n",
       "      <th>3</th>\n",
       "      <td>647</td>\n",
       "      <td>Courage Under Fire (1996)</td>\n",
       "      <td>2</td>\n",
       "      <td>56</td>\n",
       "      <td>M</td>\n",
       "      <td>16</td>\n",
       "      <td>3</td>\n",
       "      <td>1</td>\n",
       "    </tr>\n",
       "    <tr>\n",
       "      <th>4</th>\n",
       "      <td>2194</td>\n",
       "      <td>Untouchables, The (1987)</td>\n",
       "      <td>2</td>\n",
       "      <td>56</td>\n",
       "      <td>M</td>\n",
       "      <td>16</td>\n",
       "      <td>4</td>\n",
       "      <td>1</td>\n",
       "    </tr>\n",
       "  </tbody>\n",
       "</table>\n",
       "</div>"
      ],
      "text/plain": [
       "   MovieID                                     Title  UserID  Age Gender  \\\n",
       "0     1357                              Shine (1996)       2   56      M   \n",
       "1     3068                       Verdict, The (1982)       2   56      M   \n",
       "2     1537  Shall We Dance? (Shall We Dansu?) (1996)       2   56      M   \n",
       "3      647                 Courage Under Fire (1996)       2   56      M   \n",
       "4     2194                  Untouchables, The (1987)       2   56      M   \n",
       "\n",
       "   Occupation  Rating Chance_Gender  \n",
       "0          16       5             1  \n",
       "1          16       4             1  \n",
       "2          16       4             1  \n",
       "3          16       3             1  \n",
       "4          16       4             1  "
      ]
     },
     "execution_count": 19,
     "metadata": {},
     "output_type": "execute_result"
    }
   ],
   "source": [
    "def categorize_gender(score):\n",
    "    if score == 'M':\n",
    "        return \"1\"   \n",
    "    else:\n",
    "        return \"0\"\n",
    "# 1 means male and 0 means Female\n",
    "# Create the new categorical variable\n",
    "df['Chance_Gender'] = df['Gender'].apply(categorize_gender)\n",
    "df.head()"
   ]
  },
  {
   "cell_type": "code",
   "execution_count": 20,
   "id": "450bad8f",
   "metadata": {},
   "outputs": [
    {
     "data": {
      "text/html": [
       "<div>\n",
       "<style scoped>\n",
       "    .dataframe tbody tr th:only-of-type {\n",
       "        vertical-align: middle;\n",
       "    }\n",
       "\n",
       "    .dataframe tbody tr th {\n",
       "        vertical-align: top;\n",
       "    }\n",
       "\n",
       "    .dataframe thead th {\n",
       "        text-align: right;\n",
       "    }\n",
       "</style>\n",
       "<table border=\"1\" class=\"dataframe\">\n",
       "  <thead>\n",
       "    <tr style=\"text-align: right;\">\n",
       "      <th></th>\n",
       "      <th>MovieID</th>\n",
       "      <th>Title</th>\n",
       "      <th>UserID</th>\n",
       "      <th>Age</th>\n",
       "      <th>Gender</th>\n",
       "      <th>Occupation</th>\n",
       "      <th>Rating</th>\n",
       "      <th>Chance_Gender</th>\n",
       "      <th>Chance_Rating</th>\n",
       "    </tr>\n",
       "  </thead>\n",
       "  <tbody>\n",
       "    <tr>\n",
       "      <th>0</th>\n",
       "      <td>1357</td>\n",
       "      <td>Shine (1996)</td>\n",
       "      <td>2</td>\n",
       "      <td>56</td>\n",
       "      <td>M</td>\n",
       "      <td>16</td>\n",
       "      <td>5</td>\n",
       "      <td>1</td>\n",
       "      <td>1</td>\n",
       "    </tr>\n",
       "    <tr>\n",
       "      <th>1</th>\n",
       "      <td>3068</td>\n",
       "      <td>Verdict, The (1982)</td>\n",
       "      <td>2</td>\n",
       "      <td>56</td>\n",
       "      <td>M</td>\n",
       "      <td>16</td>\n",
       "      <td>4</td>\n",
       "      <td>1</td>\n",
       "      <td>1</td>\n",
       "    </tr>\n",
       "    <tr>\n",
       "      <th>2</th>\n",
       "      <td>1537</td>\n",
       "      <td>Shall We Dance? (Shall We Dansu?) (1996)</td>\n",
       "      <td>2</td>\n",
       "      <td>56</td>\n",
       "      <td>M</td>\n",
       "      <td>16</td>\n",
       "      <td>4</td>\n",
       "      <td>1</td>\n",
       "      <td>1</td>\n",
       "    </tr>\n",
       "    <tr>\n",
       "      <th>3</th>\n",
       "      <td>647</td>\n",
       "      <td>Courage Under Fire (1996)</td>\n",
       "      <td>2</td>\n",
       "      <td>56</td>\n",
       "      <td>M</td>\n",
       "      <td>16</td>\n",
       "      <td>3</td>\n",
       "      <td>1</td>\n",
       "      <td>0</td>\n",
       "    </tr>\n",
       "    <tr>\n",
       "      <th>4</th>\n",
       "      <td>2194</td>\n",
       "      <td>Untouchables, The (1987)</td>\n",
       "      <td>2</td>\n",
       "      <td>56</td>\n",
       "      <td>M</td>\n",
       "      <td>16</td>\n",
       "      <td>4</td>\n",
       "      <td>1</td>\n",
       "      <td>1</td>\n",
       "    </tr>\n",
       "  </tbody>\n",
       "</table>\n",
       "</div>"
      ],
      "text/plain": [
       "   MovieID                                     Title  UserID  Age Gender  \\\n",
       "0     1357                              Shine (1996)       2   56      M   \n",
       "1     3068                       Verdict, The (1982)       2   56      M   \n",
       "2     1537  Shall We Dance? (Shall We Dansu?) (1996)       2   56      M   \n",
       "3      647                 Courage Under Fire (1996)       2   56      M   \n",
       "4     2194                  Untouchables, The (1987)       2   56      M   \n",
       "\n",
       "   Occupation  Rating Chance_Gender Chance_Rating  \n",
       "0          16       5             1             1  \n",
       "1          16       4             1             1  \n",
       "2          16       4             1             1  \n",
       "3          16       3             1             0  \n",
       "4          16       4             1             1  "
      ]
     },
     "execution_count": 20,
     "metadata": {},
     "output_type": "execute_result"
    }
   ],
   "source": [
    "def categorize_Rating(score):\n",
    "    if score > 3:\n",
    "        return \"1\"   \n",
    "    else:\n",
    "        return \"0\"\n",
    "# 1 means high and 0 means low rating\n",
    "# Create the new categorical variable\n",
    "df['Chance_Rating'] = df['Rating'].apply(categorize_Rating)\n",
    "df.head()"
   ]
  },
  {
   "cell_type": "code",
   "execution_count": 21,
   "id": "c9e41562",
   "metadata": {},
   "outputs": [
    {
     "data": {
      "text/html": [
       "<div>\n",
       "<style scoped>\n",
       "    .dataframe tbody tr th:only-of-type {\n",
       "        vertical-align: middle;\n",
       "    }\n",
       "\n",
       "    .dataframe tbody tr th {\n",
       "        vertical-align: top;\n",
       "    }\n",
       "\n",
       "    .dataframe thead th {\n",
       "        text-align: right;\n",
       "    }\n",
       "</style>\n",
       "<table border=\"1\" class=\"dataframe\">\n",
       "  <thead>\n",
       "    <tr style=\"text-align: right;\">\n",
       "      <th></th>\n",
       "      <th>Age</th>\n",
       "      <th>Occupation</th>\n",
       "      <th>Chance_Gender</th>\n",
       "    </tr>\n",
       "  </thead>\n",
       "  <tbody>\n",
       "    <tr>\n",
       "      <th>0</th>\n",
       "      <td>56</td>\n",
       "      <td>16</td>\n",
       "      <td>1</td>\n",
       "    </tr>\n",
       "    <tr>\n",
       "      <th>1</th>\n",
       "      <td>56</td>\n",
       "      <td>16</td>\n",
       "      <td>1</td>\n",
       "    </tr>\n",
       "    <tr>\n",
       "      <th>2</th>\n",
       "      <td>56</td>\n",
       "      <td>16</td>\n",
       "      <td>1</td>\n",
       "    </tr>\n",
       "    <tr>\n",
       "      <th>3</th>\n",
       "      <td>56</td>\n",
       "      <td>16</td>\n",
       "      <td>1</td>\n",
       "    </tr>\n",
       "    <tr>\n",
       "      <th>4</th>\n",
       "      <td>56</td>\n",
       "      <td>16</td>\n",
       "      <td>1</td>\n",
       "    </tr>\n",
       "  </tbody>\n",
       "</table>\n",
       "</div>"
      ],
      "text/plain": [
       "   Age  Occupation Chance_Gender\n",
       "0   56          16             1\n",
       "1   56          16             1\n",
       "2   56          16             1\n",
       "3   56          16             1\n",
       "4   56          16             1"
      ]
     },
     "execution_count": 21,
     "metadata": {},
     "output_type": "execute_result"
    }
   ],
   "source": [
    "X = df.drop([\"Rating\",\"Gender\",\"Chance_Rating\",\"MovieID\",\"Title\",\"UserID\"], axis=1)\n",
    "y = df[\"Chance_Rating\"]\n",
    "X.head()"
   ]
  },
  {
   "cell_type": "markdown",
   "id": "a9f189ad",
   "metadata": {},
   "source": [
    "**split data into training and testing sets**"
   ]
  },
  {
   "cell_type": "code",
   "execution_count": 22,
   "id": "62169c98",
   "metadata": {},
   "outputs": [],
   "source": [
    "X_train, X_test, y_train, y_test = train_test_split(X, y, test_size=0.2, random_state=42)"
   ]
  },
  {
   "cell_type": "markdown",
   "id": "a8f61a45",
   "metadata": {},
   "source": [
    "**Create a list of diverse machine learning algorithms, which will serve as the classifiers for our analysis.**"
   ]
  },
  {
   "cell_type": "code",
   "execution_count": 23,
   "id": "43f55cc3",
   "metadata": {},
   "outputs": [],
   "source": [
    "classifiers = [\n",
    "    ('Random Forest', RandomForestClassifier()),\n",
    "    ('Gaussian Naive Bayes', GaussianNB()),\n",
    "    ('Gradient Boosting Classifier', GradientBoostingClassifier()),\n",
    "    ('Logistic Regression', LogisticRegression()),\n",
    "    ('Decision Tree', DecisionTreeClassifier()),\n",
    "    (\"K-Nearest Neighbors\", KNeighborsClassifier())\n",
    "]"
   ]
  },
  {
   "cell_type": "code",
   "execution_count": 24,
   "id": "1b50073b",
   "metadata": {},
   "outputs": [],
   "source": [
    "metrics = {\n",
    "    'R2 Score': [],\n",
    "    'Mean Absolute Error': [],\n",
    "    'Mean Squared Error': [],\n",
    "    'Accuracy': [],\n",
    "    'Precision': [],\n",
    "    'Recall': [],\n",
    "    'F1 Score': []\n",
    "}"
   ]
  },
  {
   "cell_type": "markdown",
   "id": "67712e58",
   "metadata": {},
   "source": [
    "**Create a pipeline by combining the StandardScaler and the chosen classifier, train it on the training data, predict the rocket launches for the test data, calculate the evaluation metrics, store them in the dictionary, and display the evaluation metrics for the current classifier.**"
   ]
  },
  {
   "cell_type": "code",
   "execution_count": 25,
   "id": "27fbe052",
   "metadata": {},
   "outputs": [
    {
     "name": "stdout",
     "output_type": "stream",
     "text": [
      "Metrics for Random Forest:\n",
      "R2 Score: -0.7186264676727763\n",
      "Mean Absolute Error: 0.4196206716896441\n",
      "Mean Squared Error: 0.4196206716896441\n",
      "Accuracy: 0.5803793283103559\n",
      "Precision: 0.5834662257660205\n",
      "Recall: 0.9507656741582798\n",
      "F1 Score: 0.7231496874969014\n",
      "\n",
      "Metrics for Gaussian Naive Bayes:\n",
      "R2 Score: -0.7348559906832841\n",
      "Mean Absolute Error: 0.423583279897403\n",
      "Mean Squared Error: 0.423583279897403\n",
      "Accuracy: 0.576416720102597\n",
      "Precision: 0.576416720102597\n",
      "Recall: 1.0\n",
      "F1 Score: 0.7312999319939748\n",
      "\n",
      "Metrics for Gradient Boosting Classifier:\n",
      "R2 Score: -0.7305883032165514\n",
      "Mean Absolute Error: 0.42254127925617185\n",
      "Mean Squared Error: 0.42254127925617185\n",
      "Accuracy: 0.5774587207438282\n",
      "Precision: 0.5773328767951016\n",
      "Recall: 0.9964714675566216\n",
      "F1 Score: 0.7310892755804093\n",
      "\n",
      "Metrics for Logistic Regression:\n",
      "R2 Score: -0.7348559906832841\n",
      "Mean Absolute Error: 0.423583279897403\n",
      "Mean Squared Error: 0.423583279897403\n",
      "Accuracy: 0.576416720102597\n",
      "Precision: 0.576416720102597\n",
      "Recall: 1.0\n",
      "F1 Score: 0.7312999319939748\n",
      "\n",
      "Metrics for Decision Tree:\n",
      "R2 Score: -0.7186264676727763\n",
      "Mean Absolute Error: 0.4196206716896441\n",
      "Mean Squared Error: 0.4196206716896441\n",
      "Accuracy: 0.5803793283103559\n",
      "Precision: 0.5834662257660205\n",
      "Recall: 0.9507656741582798\n",
      "F1 Score: 0.7231496874969014\n",
      "\n",
      "Metrics for K-Nearest Neighbors:\n",
      "R2 Score: -0.9259991466452193\n",
      "Mean Absolute Error: 0.47025288554023725\n",
      "Mean Squared Error: 0.47025288554023725\n",
      "Accuracy: 0.5297471144597627\n",
      "Precision: 0.5819616336633663\n",
      "Recall: 0.6538735638177678\n",
      "F1 Score: 0.6158253595370423\n",
      "\n"
     ]
    }
   ],
   "source": [
    "for name, classifier in classifiers:\n",
    "    # Create a pipeline with StandardScaler and the classifier\n",
    "    pipeline = Pipeline([\n",
    "        ('scaler', StandardScaler()),\n",
    "        ('classifier', classifier)\n",
    "    ])\n",
    "\n",
    "    # Train the pipeline on the training data\n",
    "    pipeline.fit(X_train, y_train)\n",
    "\n",
    "    # Predict the rocket launches for the test data\n",
    "    y_pred = pipeline.predict(X_test)\n",
    "\n",
    "    y_test = y_test.astype(int)\n",
    "    y_pred = y_pred.astype(int)\n",
    "    \n",
    "    r2 = r2_score(y_test, y_pred)\n",
    "    mae = mean_absolute_error(y_test, y_pred)\n",
    "    mse = mean_squared_error(y_test, y_pred)\n",
    "    accuracy = accuracy_score(y_test, y_pred)\n",
    "    precision = precision_score(y_test, y_pred)\n",
    "    recall = recall_score(y_test, y_pred)\n",
    "    f1 = f1_score(y_test, y_pred)\n",
    "\n",
    "    # Store the evaluation metrics in the dictionary\n",
    "    metrics['R2 Score'].append(r2)\n",
    "    metrics['Mean Absolute Error'].append(mae)\n",
    "    metrics['Mean Squared Error'].append(mse)\n",
    "    metrics['Accuracy'].append(accuracy)\n",
    "    metrics['Precision'].append(precision)\n",
    "    metrics['Recall'].append(recall)\n",
    "    metrics['F1 Score'].append(f1)\n",
    "\n",
    "    # Display the evaluation metrics for the current classifier\n",
    "    print(f\"Metrics for {name}:\")\n",
    "    print(\"R2 Score:\", r2)\n",
    "    print(\"Mean Absolute Error:\", mae)\n",
    "    print(\"Mean Squared Error:\", mse)\n",
    "    print(\"Accuracy:\", accuracy)\n",
    "    print(\"Precision:\", precision)\n",
    "    print(\"Recall:\", recall)\n",
    "    print(\"F1 Score:\", f1)\n",
    "    print()"
   ]
  },
  {
   "cell_type": "markdown",
   "id": "f3fe2e46",
   "metadata": {},
   "source": [
    "**Print classification reports for all classifiers**"
   ]
  },
  {
   "cell_type": "code",
   "execution_count": 26,
   "id": "898ea049",
   "metadata": {},
   "outputs": [
    {
     "name": "stdout",
     "output_type": "stream",
     "text": [
      "                              R2 Score  Mean Absolute Error  \\\n",
      "Random Forest                -0.718626             0.419621   \n",
      "Decision Tree                -0.718626             0.419621   \n",
      "Gradient Boosting Classifier -0.730588             0.422541   \n",
      "Gaussian Naive Bayes         -0.734856             0.423583   \n",
      "Logistic Regression          -0.734856             0.423583   \n",
      "K-Nearest Neighbors          -0.925999             0.470253   \n",
      "\n",
      "                              Mean Squared Error  Accuracy  Precision  \\\n",
      "Random Forest                           0.419621  0.580379   0.583466   \n",
      "Decision Tree                           0.419621  0.580379   0.583466   \n",
      "Gradient Boosting Classifier            0.422541  0.577459   0.577333   \n",
      "Gaussian Naive Bayes                    0.423583  0.576417   0.576417   \n",
      "Logistic Regression                     0.423583  0.576417   0.576417   \n",
      "K-Nearest Neighbors                     0.470253  0.529747   0.581962   \n",
      "\n",
      "                                Recall  F1 Score  \n",
      "Random Forest                 0.950766  0.723150  \n",
      "Decision Tree                 0.950766  0.723150  \n",
      "Gradient Boosting Classifier  0.996471  0.731089  \n",
      "Gaussian Naive Bayes          1.000000  0.731300  \n",
      "Logistic Regression           1.000000  0.731300  \n",
      "K-Nearest Neighbors           0.653874  0.615825  \n",
      "Best Algorithm: Random Forest\n"
     ]
    }
   ],
   "source": [
    "metrics_df = pd.DataFrame(metrics, index=[name for name, _ in classifiers])\n",
    "\n",
    "# Find the best algorithm based on the highest accuracy\n",
    "sorted_metrics_df = metrics_df.sort_values(by=['Accuracy', 'Precision','R2 Score','Recall','F1 Score'], ascending=False)\n",
    "\n",
    "# Find the best algorithm based on both accuracy and precision\n",
    "best_algorithm = sorted_metrics_df.index[0]\n",
    "\n",
    "# Print the evaluation metrics for each algorithm\n",
    "print(sorted_metrics_df)\n",
    "\n",
    "# Print the best algorithm\n",
    "print('Best Algorithm:', best_algorithm)"
   ]
  },
  {
   "cell_type": "markdown",
   "id": "7982d38e",
   "metadata": {},
   "source": [
    "## MODEL EVALUATION"
   ]
  },
  {
   "cell_type": "markdown",
   "id": "9d062538",
   "metadata": {},
   "source": [
    "**Now, let's create two lists: \"accuracy_before\" and \"accuracy_after\" to calculate the accuracy before cross-validation and the accuracy after cross-validation, respectively.**"
   ]
  },
  {
   "cell_type": "code",
   "execution_count": 27,
   "id": "f8b23f21",
   "metadata": {},
   "outputs": [],
   "source": [
    "accuracy_before = []\n",
    "accuracy_after = []"
   ]
  },
  {
   "cell_type": "code",
   "execution_count": 28,
   "id": "a2984acc",
   "metadata": {},
   "outputs": [
    {
     "name": "stdout",
     "output_type": "stream",
     "text": [
      "Accuracy Before CV: 0.5297471144597627\n"
     ]
    }
   ],
   "source": [
    "accuracy = accuracy_score(y_test, y_pred)\n",
    "accuracy_before.append(accuracy)\n",
    "print('Accuracy Before CV:', accuracy)"
   ]
  },
  {
   "cell_type": "markdown",
   "id": "38fadf66",
   "metadata": {},
   "source": [
    "**Let's calculate the accuracy after cross-validation, cross-validation scores, and the average cross-validation score.**"
   ]
  },
  {
   "cell_type": "code",
   "execution_count": 29,
   "id": "812a8305",
   "metadata": {},
   "outputs": [
    {
     "name": "stdout",
     "output_type": "stream",
     "text": [
      "Accuracy After CV: 0.5182380169926258\n",
      "Cross-Validation Scores: [0.47922511 0.54594822 0.51844542 0.52899066 0.51858067]\n",
      "Average Cross-Validation Score: 0.5182380169926258\n"
     ]
    }
   ],
   "source": [
    "scores = cross_val_score(pipeline, X, y, cv=5)\n",
    "accuracy_cv = np.mean(scores)\n",
    "accuracy_after.append(accuracy_cv)\n",
    "print('Accuracy After CV:', accuracy_cv)\n",
    "print('Cross-Validation Scores:', scores)\n",
    "print('Average Cross-Validation Score:', np.mean(scores))"
   ]
  },
  {
   "cell_type": "markdown",
   "id": "74377ac4",
   "metadata": {},
   "source": [
    "**Now let's create a confusion plot to visualize the test and prediction results.**"
   ]
  },
  {
   "cell_type": "code",
   "execution_count": 30,
   "id": "f8e1367d",
   "metadata": {},
   "outputs": [
    {
     "data": {
      "image/png": "[encoded data removed]",
      "text/plain": [
       "<Figure size 640x480 with 2 Axes>"
      ]
     },
     "metadata": {},
     "output_type": "display_data"
    }
   ],
   "source": [
    "cm = confusion_matrix(y_test, y_pred)\n",
    "sns.heatmap(cm, annot=True,cmap='Blues')\n",
    "plt.title('Confusion Matrix - ' + name)\n",
    "plt.xlabel('Predicted Label')\n",
    "plt.ylabel('True Label')\n",
    "plt.show()"
   ]
  }
 ],
 "metadata": {
  "kernelspec": {
   "display_name": "Python 3 (ipykernel)",
   "language": "python",
   "name": "python3"
  },
  "language_info": {
   "codemirror_mode": {
    "name": "ipython",
    "version": 3
   },
   "file_extension": ".py",
   "mimetype": "text/x-python",
   "name": "python",
   "nbconvert_exporter": "python",
   "pygments_lexer": "ipython3",
   "version": "3.10.9"
  }
 },
 "nbformat": 4,
 "nbformat_minor": 5
}
